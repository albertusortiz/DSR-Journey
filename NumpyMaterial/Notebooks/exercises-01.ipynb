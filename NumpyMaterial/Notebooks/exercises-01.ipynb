{
 "cells": [
  {
   "cell_type": "markdown",
   "metadata": {},
   "source": [
    "# 101 NumPy Exercises for Data Analysis (Python)"
   ]
  },
  {
   "cell_type": "markdown",
   "metadata": {},
   "source": [
    " _Source:  https://www.machinelearningplus.com/python/101-numpy-exercises-python/_"
   ]
  },
  {
   "cell_type": "markdown",
   "metadata": {},
   "source": [
    "** 1.- Import numpy as np and see the version**"
   ]
  },
  {
   "cell_type": "code",
   "execution_count": 3,
   "metadata": {},
   "outputs": [
    {
     "data": {
      "text/plain": [
       "'1.14.0'"
      ]
     },
     "execution_count": 3,
     "metadata": {},
     "output_type": "execute_result"
    }
   ],
   "source": [
    "import numpy as np\n",
    "np.__version__"
   ]
  },
  {
   "cell_type": "markdown",
   "metadata": {},
   "source": [
    "** 2.- How to create a 1D array? **\n",
    "   - Create a 1D array of numbers from 0 to 9"
   ]
  },
  {
   "cell_type": "code",
   "execution_count": 5,
   "metadata": {},
   "outputs": [
    {
     "data": {
      "text/plain": [
       "array([0, 1, 2, 3, 4, 5, 6, 7, 8, 9])"
      ]
     },
     "execution_count": 5,
     "metadata": {},
     "output_type": "execute_result"
    }
   ],
   "source": [
    "a = np.arange(0,10)\n",
    "a"
   ]
  },
  {
   "cell_type": "markdown",
   "metadata": {},
   "source": [
    "** 3.- How to create a boolean array? **\n",
    "  - Create a 3×3 numpy array of all True’s"
   ]
  },
  {
   "cell_type": "code",
   "execution_count": 16,
   "metadata": {},
   "outputs": [
    {
     "data": {
      "text/plain": [
       "array([[ True,  True,  True],\n",
       "       [ True,  True,  True],\n",
       "       [ True,  True,  True]])"
      ]
     },
     "execution_count": 16,
     "metadata": {},
     "output_type": "execute_result"
    }
   ],
   "source": [
    "a = np.ones((3,3), dtype=bool)\n",
    "a"
   ]
  },
  {
   "cell_type": "markdown",
   "metadata": {},
   "source": [
    "** 4.- How to extract items that satisfy a given condition from 1D array? **\n",
    "   - Extract all odd numbers from arr"
   ]
  },
  {
   "cell_type": "code",
   "execution_count": 13,
   "metadata": {},
   "outputs": [
    {
     "data": {
      "text/plain": [
       "array([1, 3, 5, 7, 9])"
      ]
     },
     "execution_count": 13,
     "metadata": {},
     "output_type": "execute_result"
    }
   ],
   "source": [
    "arr = np.array([0, 1, 2, 3, 4, 5, 6, 7, 8, 9])\n",
    "arr[arr%2 != 0]\n",
    "\n"
   ]
  },
  {
   "cell_type": "markdown",
   "metadata": {},
   "source": [
    "** 5.- How to replace items that satisfy a condition with another value in numpy array? **\n",
    "  - Replace all odd numbers in arr with -1"
   ]
  },
  {
   "cell_type": "code",
   "execution_count": 10,
   "metadata": {},
   "outputs": [
    {
     "data": {
      "text/plain": [
       "array([ 0, -1,  2, -1,  4, -1,  6, -1,  8, -1])"
      ]
     },
     "execution_count": 10,
     "metadata": {},
     "output_type": "execute_result"
    }
   ],
   "source": [
    "arr[arr%2 != 0] = -1\n",
    "arr"
   ]
  },
  {
   "cell_type": "markdown",
   "metadata": {},
   "source": [
    "** 6.- How to replace items that satisfy a condition without affecting the original array? **\n",
    "  - Replace all odd numbers in arr with -1 without changing arr"
   ]
  },
  {
   "cell_type": "code",
   "execution_count": 18,
   "metadata": {},
   "outputs": [
    {
     "name": "stdout",
     "output_type": "stream",
     "text": [
      "[0 1 2 3 4 5 6 7 8 9]\n",
      "[ 0 -1  2 -1  4 -1  6 -1  8 -1]\n"
     ]
    }
   ],
   "source": [
    "arrModified = np.copy(arr)\n",
    "arrModified[arrModified%2 != 0] = -1\n",
    "# alternatively use\n",
    "# arrModified = np.where(arr % 2 == 1,  -1, arr)\n",
    "print(arr)\n",
    "print(arrModified)"
   ]
  },
  {
   "cell_type": "markdown",
   "metadata": {},
   "source": [
    "** 7.- How to reshape an array? **\n",
    "  - Convert a 1D array to a 2D array with 2 rows"
   ]
  },
  {
   "cell_type": "code",
   "execution_count": 25,
   "metadata": {},
   "outputs": [
    {
     "data": {
      "text/plain": [
       "array([[0, 1, 2, 3, 4],\n",
       "       [5, 6, 7, 8, 9]])"
      ]
     },
     "execution_count": 25,
     "metadata": {},
     "output_type": "execute_result"
    }
   ],
   "source": [
    "arr = np.arange(10)\n",
    "arr.reshape(2,5)\n",
    "# alternative use\n",
    "# arr.reshape(2, -1)  # Setting to -1 automatically decides the number of cols"
   ]
  },
  {
   "cell_type": "markdown",
   "metadata": {},
   "source": [
    "** 8.- How to stack two arrays vertically? **\n",
    "  - Stack arrays a and b vertically"
   ]
  },
  {
   "cell_type": "code",
   "execution_count": 38,
   "metadata": {},
   "outputs": [
    {
     "data": {
      "text/plain": [
       "array([[0, 1, 2, 3, 4],\n",
       "       [5, 6, 7, 8, 9],\n",
       "       [1, 1, 1, 1, 1],\n",
       "       [1, 1, 1, 1, 1]])"
      ]
     },
     "execution_count": 38,
     "metadata": {},
     "output_type": "execute_result"
    }
   ],
   "source": [
    "a = np.arange(10).reshape(2,-1)\n",
    "b = np.repeat(1, 10).reshape(2,-1)\n",
    "np.concatenate((a, b), axis = 0)\n",
    "# Method 2:\n",
    "#np.vstack([a, b])\n",
    "# Method 3:\n",
    "#np.r_[a, b]"
   ]
  },
  {
   "cell_type": "markdown",
   "metadata": {},
   "source": [
    "** 9.- How to stack two arrays horizontally? **\n",
    "   - Stack the arrays a and b horizontally."
   ]
  },
  {
   "cell_type": "code",
   "execution_count": 39,
   "metadata": {},
   "outputs": [
    {
     "data": {
      "text/plain": [
       "array([[0, 1, 2, 3, 4, 1, 1, 1, 1, 1],\n",
       "       [5, 6, 7, 8, 9, 1, 1, 1, 1, 1]])"
      ]
     },
     "execution_count": 39,
     "metadata": {},
     "output_type": "execute_result"
    }
   ],
   "source": [
    "a = np.arange(10).reshape(2,-1)\n",
    "b = np.repeat(1, 10).reshape(2,-1)\n",
    "np.concatenate((a, b), axis = 1)\n",
    "# Method 2:\n",
    "#np.hstack([a, b])\n",
    "\n",
    "# Method 3:\n",
    "#np.c_[a, b]"
   ]
  },
  {
   "cell_type": "markdown",
   "metadata": {},
   "source": [
    "** 10.- How to generate custom sequences in numpy without hardcoding? **\n",
    "  - Create the following pattern without hardcoding. Use only numpy functions and the below input array a."
   ]
  },
  {
   "cell_type": "code",
   "execution_count": 56,
   "metadata": {},
   "outputs": [
    {
     "data": {
      "text/plain": [
       "array([1, 1, 1, 2, 2, 2, 3, 3, 3, 1, 2, 3, 1, 2, 3])"
      ]
     },
     "execution_count": 56,
     "metadata": {},
     "output_type": "execute_result"
    }
   ],
   "source": [
    "a = np.array([1,2,3])\n",
    "b = np.repeat(a, [3,3,3])\n",
    "np.hstack([b, np.tile(a, 2)])\n",
    "\n",
    "# alternative use\n",
    "#np.r_[np.repeat(a, 3), np.tile(a, 3)]\n"
   ]
  },
  {
   "cell_type": "markdown",
   "metadata": {},
   "source": [
    "** 11.- How to get the common items between two python numpy arrays? **\n",
    "   - Get the common items between a and b"
   ]
  },
  {
   "cell_type": "code",
   "execution_count": 66,
   "metadata": {},
   "outputs": [
    {
     "data": {
      "text/plain": [
       "array([2, 4])"
      ]
     },
     "execution_count": 66,
     "metadata": {},
     "output_type": "execute_result"
    }
   ],
   "source": [
    "a = np.array([1,2,3,2,3,4,3,4,5,6])\n",
    "b = np.array([7,2,10,2,7,4,9,4,9,8])\n",
    "\n",
    "np.intersect1d(a,b)\n"
   ]
  },
  {
   "cell_type": "markdown",
   "metadata": {},
   "source": [
    "** 12.- How to remove from one array those items that exist in another? **\n",
    "  - From array a remove all items present in array b"
   ]
  },
  {
   "cell_type": "code",
   "execution_count": 78,
   "metadata": {},
   "outputs": [
    {
     "name": "stdout",
     "output_type": "stream",
     "text": [
      "[1 2 3 4 5] [5 6 7 8 9]\n"
     ]
    },
    {
     "data": {
      "text/plain": [
       "array([1, 2, 3, 4])"
      ]
     },
     "execution_count": 78,
     "metadata": {},
     "output_type": "execute_result"
    }
   ],
   "source": [
    "a = np.array([1,2,3,4,5])\n",
    "b = np.array([5,6,7,8,9])\n",
    "print(a,b)\n",
    "a[np.isin(a,b, invert=True)]\n",
    "\n",
    "# Alternative use\n",
    "# np.setdiff1d(a,b)"
   ]
  },
  {
   "cell_type": "markdown",
   "metadata": {},
   "source": [
    "** 13.- How to get the positions where elements of two arrays match? **\n",
    "   - Get the positions where elements of a and b match"
   ]
  },
  {
   "cell_type": "code",
   "execution_count": 81,
   "metadata": {},
   "outputs": [
    {
     "data": {
      "text/plain": [
       "(array([1, 3, 5, 7]),)"
      ]
     },
     "execution_count": 81,
     "metadata": {},
     "output_type": "execute_result"
    }
   ],
   "source": [
    "a = np.array([1,2,3,2,3,4,3,4,5,6])\n",
    "b = np.array([7,2,10,2,7,4,9,4,9,8])\n",
    "\n",
    "np.where(a == b)"
   ]
  },
  {
   "cell_type": "markdown",
   "metadata": {},
   "source": [
    "** 14.- How to extract all numbers between a given range from a numpy array? **\n",
    "   - Get all items between 5 and 10 from a."
   ]
  },
  {
   "cell_type": "code",
   "execution_count": 98,
   "metadata": {},
   "outputs": [
    {
     "data": {
      "text/plain": [
       "array([ 6,  9, 10])"
      ]
     },
     "execution_count": 98,
     "metadata": {},
     "output_type": "execute_result"
    }
   ],
   "source": [
    "a = np.array([2, 6, 1, 9, 10, 3, 27])\n",
    "a\n",
    "a[(a>=5) & (a<=10)]\n",
    "\n",
    "# Alternative use\n",
    "# np.where((a>=5) & (a<=10))"
   ]
  },
  {
   "cell_type": "markdown",
   "metadata": {},
   "source": [
    "** 15.- How to make a python function that handles scalars to work on numpy arrays? **\n",
    "  - Convert the function maxx that works on two scalars, to work on two arrays."
   ]
  },
  {
   "cell_type": "code",
   "execution_count": 110,
   "metadata": {},
   "outputs": [
    {
     "data": {
      "text/plain": [
       "array([6, 7, 9, 8, 9, 7, 5])"
      ]
     },
     "execution_count": 110,
     "metadata": {},
     "output_type": "execute_result"
    }
   ],
   "source": [
    "def maxx(x, y):\n",
    "    \"\"\"Get the maximum of two items\"\"\"\n",
    "    if x >= y:\n",
    "        return x\n",
    "    else:\n",
    "        return y\n",
    "\n",
    "maxx(1, 5)\n",
    "\n",
    "a = np.array([5, 7, 9, 8, 6, 4, 5])\n",
    "b = np.array([6, 3, 4, 8, 9, 7, 1])\n",
    "\n",
    "pairMax = np.vectorize(maxx)\n",
    "\n",
    "pairMax(a,b)\n",
    "    "
   ]
  },
  {
   "cell_type": "markdown",
   "metadata": {},
   "source": [
    "** 16.- How to swap two columns in a 2d numpy array? **\n",
    "  - Swap columns 1 and 2 in the array arr."
   ]
  },
  {
   "cell_type": "code",
   "execution_count": 146,
   "metadata": {},
   "outputs": [
    {
     "name": "stdout",
     "output_type": "stream",
     "text": [
      "[[0 1 2]\n",
      " [3 4 5]\n",
      " [6 7 8]]\n"
     ]
    },
    {
     "data": {
      "text/plain": [
       "array([[1, 0, 2],\n",
       "       [4, 3, 5],\n",
       "       [7, 6, 8]])"
      ]
     },
     "execution_count": 146,
     "metadata": {},
     "output_type": "execute_result"
    }
   ],
   "source": [
    "arr = np.arange(9).reshape(3,3)\n",
    "print(arr)\n",
    "arr[:, [1,0,2]]"
   ]
  },
  {
   "cell_type": "markdown",
   "metadata": {},
   "source": [
    "** 17.- How to swap two rows in a 2d numpy array? **\n",
    "  - Swap rows 1 and 2 in the array arr:"
   ]
  },
  {
   "cell_type": "code",
   "execution_count": 147,
   "metadata": {},
   "outputs": [
    {
     "name": "stdout",
     "output_type": "stream",
     "text": [
      "[[0 1 2]\n",
      " [3 4 5]\n",
      " [6 7 8]]\n"
     ]
    },
    {
     "data": {
      "text/plain": [
       "array([[3, 4, 5],\n",
       "       [0, 1, 2],\n",
       "       [6, 7, 8]])"
      ]
     },
     "execution_count": 147,
     "metadata": {},
     "output_type": "execute_result"
    }
   ],
   "source": [
    "arr = np.arange(9).reshape(3,3)\n",
    "print(arr)\n",
    "arr[[1,0,2],: ]"
   ]
  },
  {
   "cell_type": "markdown",
   "metadata": {},
   "source": [
    "** 19.- How to reverse the columns of a 2D array? **\n",
    "  - Reverse the columns of a 2D array arr."
   ]
  },
  {
   "cell_type": "code",
   "execution_count": 154,
   "metadata": {},
   "outputs": [
    {
     "name": "stdout",
     "output_type": "stream",
     "text": [
      "[[0 1 2]\n",
      " [3 4 5]\n",
      " [6 7 8]]\n"
     ]
    },
    {
     "data": {
      "text/plain": [
       "array([[2, 1, 0],\n",
       "       [5, 4, 3],\n",
       "       [8, 7, 6]])"
      ]
     },
     "execution_count": 154,
     "metadata": {},
     "output_type": "execute_result"
    }
   ],
   "source": [
    "arr = np.arange(9).reshape(3,-1)\n",
    "print(arr)\n",
    "\n",
    "arr[:,::-1]\n"
   ]
  },
  {
   "cell_type": "markdown",
   "metadata": {},
   "source": [
    "** 20.- How to create a 2D array containing random floats between 5 and 10? **\n",
    "   - Create a 2D array of shape 5x3 to contain random decimal numbers between 5 and 10."
   ]
  },
  {
   "cell_type": "code",
   "execution_count": 169,
   "metadata": {},
   "outputs": [
    {
     "data": {
      "text/plain": [
       "array([[8.64128082, 7.90304249, 5.69307691],\n",
       "       [7.1679364 , 9.37886172, 7.51012144],\n",
       "       [9.23000027, 5.86419845, 8.79863706],\n",
       "       [5.62736394, 9.94383594, 6.01858064],\n",
       "       [8.44725249, 8.75168736, 7.32301138]])"
      ]
     },
     "execution_count": 169,
     "metadata": {},
     "output_type": "execute_result"
    }
   ],
   "source": [
    "x = np.random.uniform(5,10, size=(5,3))\n",
    "x"
   ]
  },
  {
   "cell_type": "markdown",
   "metadata": {},
   "source": [
    "** 21.- How to print only 3 decimal places in python numpy array? **\n",
    "   - Print or show only 3 decimal places of the numpy array rand_arr."
   ]
  },
  {
   "cell_type": "code",
   "execution_count": 25,
   "metadata": {},
   "outputs": [
    {
     "name": "stdout",
     "output_type": "stream",
     "text": [
      "<class 'numpy.ndarray'>\n"
     ]
    },
    {
     "data": {
      "text/plain": [
       "array([[0.649, 0.838, 0.912],\n",
       "       [0.238, 0.545, 0.018],\n",
       "       [0.404, 0.157, 0.725],\n",
       "       [0.81 , 0.034, 0.524],\n",
       "       [0.645, 0.613, 0.508]])"
      ]
     },
     "execution_count": 25,
     "metadata": {},
     "output_type": "execute_result"
    }
   ],
   "source": [
    "rand_arr = np.random.random((5,3))\n",
    "print(type(rand_arr))\n",
    "\n",
    "# Limit to 3 decimal places\n",
    "np.set_printoptions(precision=3)\n",
    "rand_arr"
   ]
  },
  {
   "cell_type": "markdown",
   "metadata": {},
   "source": [
    "** 22.- How to pretty print a numpy array by suppressing the scientific notation (like 1e10)? **\n",
    "   - Pretty print rand_arr by suppressing the scientific notation (like 1e10)"
   ]
  },
  {
   "cell_type": "code",
   "execution_count": 29,
   "metadata": {},
   "outputs": [
    {
     "data": {
      "text/plain": [
       "array([[0.000543, 0.000278, 0.000425],\n",
       "       [0.000845, 0.000005, 0.000122],\n",
       "       [0.000671, 0.000826, 0.000137]])"
      ]
     },
     "execution_count": 29,
     "metadata": {},
     "output_type": "execute_result"
    }
   ],
   "source": [
    "np.random.seed(100)\n",
    "rand_arr = np.random.random([3,3])/1e3\n",
    "rand_arr\n",
    "\n",
    "np.set_printoptions(precision=6, suppress=True)\n",
    "rand_arr"
   ]
  },
  {
   "cell_type": "markdown",
   "metadata": {},
   "source": [
    "** 23.- How to limit the number of items printed in output of numpy array? **\n",
    "   - Limit the number of items printed in python numpy array a to a maximum of 6 elements."
   ]
  },
  {
   "cell_type": "code",
   "execution_count": 35,
   "metadata": {},
   "outputs": [
    {
     "data": {
      "text/plain": [
       "array([ 0,  1,  2, ..., 12, 13, 14])"
      ]
     },
     "execution_count": 35,
     "metadata": {},
     "output_type": "execute_result"
    }
   ],
   "source": [
    "a = np.arange(15)\n",
    "a\n",
    "\n",
    "np.set_printoptions(suppress=False, threshold=6)\n",
    "a\n"
   ]
  },
  {
   "cell_type": "markdown",
   "metadata": {},
   "source": [
    "** 24.- How to print the full numpy array without truncating **\n",
    "   - Print the full numpy array a without truncating."
   ]
  },
  {
   "cell_type": "code",
   "execution_count": 39,
   "metadata": {},
   "outputs": [
    {
     "data": {
      "text/plain": [
       "array([ 0,  1,  2,  3,  4,  5,  6,  7,  8,  9, 10, 11, 12, 13, 14])"
      ]
     },
     "execution_count": 39,
     "metadata": {},
     "output_type": "execute_result"
    }
   ],
   "source": [
    "np.set_printoptions(threshold=6)\n",
    "a = np.arange(15)\n",
    "a\n",
    "np.set_printoptions(threshold=1000) # this is the default value\n",
    "a"
   ]
  },
  {
   "cell_type": "markdown",
   "metadata": {},
   "source": [
    "** 25.- How to import a dataset with numbers and texts keeping the text intact in python numpy? **\n",
    "   - Import the iris dataset keeping the text intact."
   ]
  },
  {
   "cell_type": "code",
   "execution_count": 46,
   "metadata": {},
   "outputs": [
    {
     "data": {
      "text/plain": [
       "array([[b'5.1', b'3.5', b'1.4', b'0.2', b'Iris-setosa'],\n",
       "       [b'4.9', b'3.0', b'1.4', b'0.2', b'Iris-setosa'],\n",
       "       [b'4.7', b'3.2', b'1.3', b'0.2', b'Iris-setosa'],\n",
       "       [b'4.6', b'3.1', b'1.5', b'0.2', b'Iris-setosa'],\n",
       "       [b'5.0', b'3.6', b'1.4', b'0.2', b'Iris-setosa'],\n",
       "       [b'5.4', b'3.9', b'1.7', b'0.4', b'Iris-setosa'],\n",
       "       [b'4.6', b'3.4', b'1.4', b'0.3', b'Iris-setosa'],\n",
       "       [b'5.0', b'3.4', b'1.5', b'0.2', b'Iris-setosa'],\n",
       "       [b'4.4', b'2.9', b'1.4', b'0.2', b'Iris-setosa'],\n",
       "       [b'4.9', b'3.1', b'1.5', b'0.1', b'Iris-setosa']], dtype=object)"
      ]
     },
     "execution_count": 46,
     "metadata": {},
     "output_type": "execute_result"
    }
   ],
   "source": [
    "url = 'https://archive.ics.uci.edu/ml/machine-learning-databases/iris/iris.data'\n",
    "iris = np.genfromtxt(url, delimiter=',', dtype='object') # if we do not specify dtype as object, a tuple is returned instead\n",
    "names = ('sepallength', 'sepalwidth', 'petallength', 'petalwidth', 'species')\n",
    "\n",
    "iris[:10] # first 10"
   ]
  },
  {
   "cell_type": "markdown",
   "metadata": {},
   "source": [
    "** 26. How to extract a particular column from 1D array of tuples? **\n",
    "   - Extract the text column species from the 1D iris imported in previous question."
   ]
  },
  {
   "cell_type": "code",
   "execution_count": 50,
   "metadata": {},
   "outputs": [
    {
     "data": {
      "text/plain": [
       "array([b'Iris-setosa', b'Iris-setosa', b'Iris-setosa', b'Iris-setosa',\n",
       "       b'Iris-setosa', b'Iris-setosa', b'Iris-setosa', b'Iris-setosa',\n",
       "       b'Iris-setosa', b'Iris-setosa'], dtype=object)"
      ]
     },
     "execution_count": 50,
     "metadata": {},
     "output_type": "execute_result"
    }
   ],
   "source": [
    "iris[:10:,4] # first 10"
   ]
  },
  {
   "cell_type": "markdown",
   "metadata": {},
   "source": [
    "** 27.- How to convert a 1d array of tuples to a 2d numpy array? **\n",
    "   - Convert the 1D iris to 2D array iris_2d by omitting the species text field."
   ]
  },
  {
   "cell_type": "code",
   "execution_count": 75,
   "metadata": {},
   "outputs": [
    {
     "data": {
      "text/plain": [
       "array([[5.1, 3.5, 1.4, 0.2],\n",
       "       [4.9, 3. , 1.4, 0.2],\n",
       "       [4.7, 3.2, 1.3, 0.2],\n",
       "       [4.6, 3.1, 1.5, 0.2],\n",
       "       [5. , 3.6, 1.4, 0.2],\n",
       "       [5.4, 3.9, 1.7, 0.4],\n",
       "       [4.6, 3.4, 1.4, 0.3],\n",
       "       [5. , 3.4, 1.5, 0.2],\n",
       "       [4.4, 2.9, 1.4, 0.2],\n",
       "       [4.9, 3.1, 1.5, 0.1]])"
      ]
     },
     "execution_count": 75,
     "metadata": {},
     "output_type": "execute_result"
    }
   ],
   "source": [
    "url = 'https://archive.ics.uci.edu/ml/machine-learning-databases/iris/iris.data'\n",
    "iris_1d = np.genfromtxt(url, delimiter=',', dtype=None, encoding=None, usecols=[0,1,2,3])\n",
    "iris_1d[:10] # first 10"
   ]
  },
  {
   "cell_type": "markdown",
   "metadata": {},
   "source": [
    "** 28.- How to compute the mean, median, standard deviation of a numpy array? **\n",
    "   - Find the mean, median, standard deviation of iris's sepallength (1st column)"
   ]
  },
  {
   "cell_type": "code",
   "execution_count": 100,
   "metadata": {},
   "outputs": [
    {
     "name": "stdout",
     "output_type": "stream",
     "text": [
      "The mean is:  5.843333333333334\n",
      "The median is:  5.8\n",
      "The std is:  0.8253012917851409\n"
     ]
    }
   ],
   "source": [
    "url = 'https://archive.ics.uci.edu/ml/machine-learning-databases/iris/iris.data'\n",
    "iris = np.genfromtxt(url, delimiter=',', dtype=float)\n",
    "mean = np.mean(iris[:,0])\n",
    "median = np.median(iris[:,0])\n",
    "std = np.std(iris[:,0])\n",
    "print(\"The mean is: \", mean)\n",
    "print(\"The median is: \", median)\n",
    "print(\"The std is: \", std)"
   ]
  },
  {
   "cell_type": "markdown",
   "metadata": {},
   "source": [
    "** 29.- How to normalize an array so the values range exactly between 0 and 1? **\n",
    "   - Create a normalized form of iris's sepallength whose values range exactly between 0 and 1 so that the minimum has value 0 and maximum has value 1."
   ]
  },
  {
   "cell_type": "code",
   "execution_count": 113,
   "metadata": {},
   "outputs": [
    {
     "name": "stdout",
     "output_type": "stream",
     "text": [
      "7.9 4.3\n",
      "[0.222222 0.166667 0.111111 0.083333 0.194444 0.305556 0.083333 0.194444\n",
      " 0.027778 0.166667 0.305556 0.138889 0.138889 0.       0.416667 0.388889\n",
      " 0.305556 0.222222 0.388889 0.222222 0.305556 0.222222 0.083333 0.222222\n",
      " 0.138889 0.194444 0.194444 0.25     0.25     0.111111 0.138889 0.305556\n",
      " 0.25     0.333333 0.166667 0.194444 0.333333 0.166667 0.027778 0.222222\n",
      " 0.194444 0.055556 0.027778 0.194444 0.222222 0.138889 0.222222 0.083333\n",
      " 0.277778 0.194444 0.75     0.583333 0.722222 0.333333 0.611111 0.388889\n",
      " 0.555556 0.166667 0.638889 0.25     0.194444 0.444444 0.472222 0.5\n",
      " 0.361111 0.666667 0.361111 0.416667 0.527778 0.361111 0.444444 0.5\n",
      " 0.555556 0.5      0.583333 0.638889 0.694444 0.666667 0.472222 0.388889\n",
      " 0.333333 0.333333 0.416667 0.472222 0.305556 0.472222 0.666667 0.555556\n",
      " 0.361111 0.333333 0.333333 0.5      0.416667 0.194444 0.361111 0.388889\n",
      " 0.388889 0.527778 0.222222 0.388889 0.555556 0.416667 0.777778 0.555556\n",
      " 0.611111 0.916667 0.166667 0.833333 0.666667 0.805556 0.611111 0.583333\n",
      " 0.694444 0.388889 0.416667 0.583333 0.611111 0.944444 0.944444 0.472222\n",
      " 0.722222 0.361111 0.944444 0.555556 0.666667 0.805556 0.527778 0.5\n",
      " 0.583333 0.805556 0.861111 1.       0.583333 0.555556 0.5      0.944444\n",
      " 0.555556 0.583333 0.472222 0.722222 0.666667 0.722222 0.416667 0.694444\n",
      " 0.666667 0.666667 0.555556 0.611111 0.527778 0.444444]\n"
     ]
    }
   ],
   "source": [
    "url = 'https://archive.ics.uci.edu/ml/machine-learning-databases/iris/iris.data'\n",
    "sepallength = np.genfromtxt(url, delimiter=',', dtype='float', usecols=[0])\n",
    "\n",
    "sepalMax, sepalMin = sepallength.max(), sepallength.min()\n",
    "print(Sepalmax, sepalMin)\n",
    "sepalForm = (sepallength - sepalMin)/(sepalMax - sepalMin)\n",
    "# Alternatively use\n",
    "#sepalForm = (sepallength - sepalMin)/sepallength.ptp()\n",
    "# help(sepallength.ptp)\n",
    "print(sepalForm)"
   ]
  },
  {
   "cell_type": "markdown",
   "metadata": {},
   "source": [
    "** 30.- How to compute the softmax score? **\n",
    "   - Compute the softmax score of sepallength."
   ]
  },
  {
   "cell_type": "code",
   "execution_count": 115,
   "metadata": {},
   "outputs": [
    {
     "data": {
      "text/plain": [
       "array([0.00222 , 0.001817, 0.001488, 0.001346, 0.002008, 0.002996,\n",
       "       0.001346, 0.002008, 0.001102, 0.001817, 0.002996, 0.001644,\n",
       "       0.001644, 0.000997, 0.00447 , 0.004044, 0.002996, 0.00222 ,\n",
       "       0.004044, 0.00222 , 0.002996, 0.00222 , 0.001346, 0.00222 ,\n",
       "       0.001644, 0.002008, 0.002008, 0.002453, 0.002453, 0.001488,\n",
       "       0.001644, 0.002996, 0.002453, 0.003311, 0.001817, 0.002008,\n",
       "       0.003311, 0.001817, 0.001102, 0.00222 , 0.002008, 0.001218,\n",
       "       0.001102, 0.002008, 0.00222 , 0.001644, 0.00222 , 0.001346,\n",
       "       0.002711, 0.002008, 0.01484 , 0.008144, 0.013428, 0.003311,\n",
       "       0.009001, 0.004044, 0.007369, 0.001817, 0.009947, 0.002453,\n",
       "       0.002008, 0.00494 , 0.005459, 0.006033, 0.003659, 0.010994,\n",
       "       0.003659, 0.00447 , 0.006668, 0.003659, 0.00494 , 0.006033,\n",
       "       0.007369, 0.006033, 0.008144, 0.009947, 0.01215 , 0.010994,\n",
       "       0.005459, 0.004044, 0.003311, 0.003311, 0.00447 , 0.005459,\n",
       "       0.002996, 0.005459, 0.010994, 0.007369, 0.003659, 0.003311,\n",
       "       0.003311, 0.006033, 0.00447 , 0.002008, 0.003659, 0.004044,\n",
       "       0.004044, 0.006668, 0.00222 , 0.004044, 0.007369, 0.00447 ,\n",
       "       0.016401, 0.007369, 0.009001, 0.02704 , 0.001817, 0.020032,\n",
       "       0.010994, 0.018126, 0.009001, 0.008144, 0.01215 , 0.004044,\n",
       "       0.00447 , 0.008144, 0.009001, 0.029884, 0.029884, 0.005459,\n",
       "       0.013428, 0.003659, 0.029884, 0.007369, 0.010994, 0.018126,\n",
       "       0.006668, 0.006033, 0.008144, 0.018126, 0.022139, 0.0365  ,\n",
       "       0.008144, 0.007369, 0.006033, 0.029884, 0.007369, 0.008144,\n",
       "       0.005459, 0.013428, 0.010994, 0.013428, 0.00447 , 0.01215 ,\n",
       "       0.010994, 0.010994, 0.007369, 0.009001, 0.006668, 0.00494 ])"
      ]
     },
     "execution_count": 115,
     "metadata": {},
     "output_type": "execute_result"
    }
   ],
   "source": [
    "url = 'https://archive.ics.uci.edu/ml/machine-learning-databases/iris/iris.data'\n",
    "sepallength = np.genfromtxt(url, delimiter=',', dtype='float', usecols=[0])\n",
    "\n",
    "softmax = lambda x : np.exp(x)/np.sum(np.exp(x))\n",
    "softmax(sepallength)"
   ]
  },
  {
   "cell_type": "markdown",
   "metadata": {},
   "source": [
    "** 31.- How to find the percentile scores of a numpy array? **\n",
    "   - Find the 5th and 95th percentile of iris's sepallength"
   ]
  },
  {
   "cell_type": "code",
   "execution_count": 118,
   "metadata": {},
   "outputs": [
    {
     "data": {
      "text/plain": [
       "array([4.6  , 7.255])"
      ]
     },
     "execution_count": 118,
     "metadata": {},
     "output_type": "execute_result"
    }
   ],
   "source": [
    "url = 'https://archive.ics.uci.edu/ml/machine-learning-databases/iris/iris.data'\n",
    "sepallength = np.genfromtxt(url, delimiter=',', dtype='float', usecols=[0])\n",
    "\n",
    "np.percentile(sepallength, [5, 95])\n",
    "# help(np.percentile)"
   ]
  },
  {
   "cell_type": "markdown",
   "metadata": {},
   "source": [
    "** 32.- How to insert values at random positions in an array? **\n",
    "   - Insert np.nan values at 20 random positions in iris_2d dataset"
   ]
  },
  {
   "cell_type": "code",
   "execution_count": 133,
   "metadata": {},
   "outputs": [
    {
     "name": "stdout",
     "output_type": "stream",
     "text": [
      "(150, 5)\n"
     ]
    },
    {
     "data": {
      "text/plain": [
       "array([[b'5.1', b'3.5', b'1.4', b'0.2', b'Iris-setosa'],\n",
       "       [b'4.9', b'3.0', b'1.4', b'0.2', b'Iris-setosa'],\n",
       "       [b'4.7', b'3.2', b'1.3', b'0.2', b'Iris-setosa'],\n",
       "       [b'4.6', b'3.1', b'1.5', b'0.2', b'Iris-setosa'],\n",
       "       [b'5.0', b'3.6', b'1.4', b'0.2', b'Iris-setosa'],\n",
       "       [b'5.4', b'3.9', b'1.7', b'0.4', b'Iris-setosa'],\n",
       "       [b'4.6', b'3.4', b'1.4', b'0.3', b'Iris-setosa'],\n",
       "       [b'5.0', b'3.4', b'1.5', b'0.2', b'Iris-setosa'],\n",
       "       [b'4.4', b'2.9', b'1.4', b'0.2', b'Iris-setosa'],\n",
       "       [b'4.9', b'3.1', b'1.5', b'0.1', b'Iris-setosa']], dtype=object)"
      ]
     },
     "execution_count": 133,
     "metadata": {},
     "output_type": "execute_result"
    }
   ],
   "source": [
    "url = 'https://archive.ics.uci.edu/ml/machine-learning-databases/iris/iris.data'\n",
    "iris_2d = np.genfromtxt(url, delimiter=',', dtype='object')\n",
    "print(iris_2d.shape)\n",
    "\n",
    "iris_2d[np.random.randint(150, size=20), np.random.randint(4, size=20)] = np.nan\n",
    "iris_2d[:10]\n"
   ]
  },
  {
   "cell_type": "markdown",
   "metadata": {},
   "source": [
    "** 33.- How to find the position of missing values in numpy array? **\n",
    "   - Find the number and position of missing values in iris_2d's sepallength (1st column)"
   ]
  },
  {
   "cell_type": "code",
   "execution_count": 148,
   "metadata": {},
   "outputs": [
    {
     "name": "stdout",
     "output_type": "stream",
     "text": [
      "Number of missing values:  4\n",
      "Positions of missing values:  (array([  4, 111, 119, 149]),)\n"
     ]
    }
   ],
   "source": [
    "url = 'https://archive.ics.uci.edu/ml/machine-learning-databases/iris/iris.data'\n",
    "iris_2d = np.genfromtxt(url, delimiter=',', dtype='float')\n",
    "iris_2d[np.random.randint(150, size=20), np.random.randint(4, size=20)] = np.nan\n",
    "\n",
    "print(\"Number of missing values: \", np.isnan(iris_2d[::,0]).sum())\n",
    "print(\"Positions of missing values: \", np.where(np.isnan(iris_2d[::,0])))\n",
    "# np.info(np.where)"
   ]
  },
  {
   "cell_type": "markdown",
   "metadata": {},
   "source": [
    "** 34.- How to filter a numpy array based on two or more conditions? **\n",
    "   - Filter the rows of iris_2d that has petallength (3rd column) > 1.5 and sepallength (1st column) < 5.0"
   ]
  },
  {
   "cell_type": "code",
   "execution_count": 156,
   "metadata": {},
   "outputs": [
    {
     "data": {
      "text/plain": [
       "array([[4.8, 3.4, 1.6, 0.2],\n",
       "       [4.8, 3.4, 1.9, 0.2],\n",
       "       [4.7, 3.2, 1.6, 0.2],\n",
       "       [4.8, 3.1, 1.6, 0.2],\n",
       "       [4.9, 2.4, 3.3, 1. ],\n",
       "       [4.9, 2.5, 4.5, 1.7]])"
      ]
     },
     "execution_count": 156,
     "metadata": {},
     "output_type": "execute_result"
    }
   ],
   "source": [
    "url = 'https://archive.ics.uci.edu/ml/machine-learning-databases/iris/iris.data'\n",
    "iris_2d = np.genfromtxt(url, delimiter=',', dtype='float', usecols=[0,1,2,3])\n",
    "#iris_2d[:10] # exploring\n",
    "\n",
    "iris_2d[np.where((iris_2d[:,2] > 1.5) & (iris_2d[:,0] < 5.0))]"
   ]
  },
  {
   "cell_type": "markdown",
   "metadata": {},
   "source": [
    "** 35.- How to drop rows that contain a missing value from a numpy array? **\n",
    "   - Select the rows of iris_2d that does not have any nan value."
   ]
  },
  {
   "cell_type": "code",
   "execution_count": 167,
   "metadata": {},
   "outputs": [
    {
     "data": {
      "text/plain": [
       "array([[4.9, 3. , 1.4, 0.2],\n",
       "       [4.7, 3.2, 1.3, 0.2],\n",
       "       [4.6, 3.1, 1.5, 0.2],\n",
       "       [5. , 3.6, 1.4, 0.2],\n",
       "       [5.4, 3.9, 1.7, 0.4]])"
      ]
     },
     "execution_count": 167,
     "metadata": {},
     "output_type": "execute_result"
    }
   ],
   "source": [
    "url = 'https://archive.ics.uci.edu/ml/machine-learning-databases/iris/iris.data'\n",
    "iris_2d = np.genfromtxt(url, delimiter=',', dtype='float', usecols=[0,1,2,3])\n",
    "iris_2d[np.random.randint(150, size=20), np.random.randint(4, size=20)] = np.nan\n",
    "iris_2d[:10] # exploring\n",
    "\n",
    "iris_2d[np.sum(np.isnan(iris_2d), axis = 1) == 0][:5]"
   ]
  },
  {
   "cell_type": "markdown",
   "metadata": {},
   "source": [
    "** 36.- How to find the correlation between two columns of a numpy array? **\n",
    "  - Find the correlation between SepalLength(1st column) and PetalLength(3rd column) in iris_2d"
   ]
  },
  {
   "cell_type": "code",
   "execution_count": 176,
   "metadata": {},
   "outputs": [
    {
     "data": {
      "text/plain": [
       "array([[1.      , 0.871754],\n",
       "       [0.871754, 1.      ]])"
      ]
     },
     "execution_count": 176,
     "metadata": {},
     "output_type": "execute_result"
    }
   ],
   "source": [
    "url = 'https://archive.ics.uci.edu/ml/machine-learning-databases/iris/iris.data'\n",
    "iris_2d = np.genfromtxt(url, delimiter=',', dtype='float', usecols=[0,1,2,3])\n",
    "\n",
    "np.corrcoef(iris_2d[:,0], iris_2d[:,2]) #[0,1]"
   ]
  },
  {
   "cell_type": "markdown",
   "metadata": {},
   "source": [
    "** 37.- How to find if a given array has any null values? **\n",
    "   - Find out if iris_2d has any missing values."
   ]
  },
  {
   "cell_type": "code",
   "execution_count": 177,
   "metadata": {},
   "outputs": [
    {
     "data": {
      "text/plain": [
       "False"
      ]
     },
     "execution_count": 177,
     "metadata": {},
     "output_type": "execute_result"
    }
   ],
   "source": [
    "url = 'https://archive.ics.uci.edu/ml/machine-learning-databases/iris/iris.data'\n",
    "iris_2d = np.genfromtxt(url, delimiter=',', dtype='float', usecols=[0,1,2,3])\n",
    "\n",
    "np.isnan(iris_2d).any()"
   ]
  },
  {
   "cell_type": "markdown",
   "metadata": {},
   "source": [
    "** 38.- How to replace all missing values with 0 in a numpy array? **\n",
    "   - Replace all ocurrences of nan with 0 in numpy array"
   ]
  },
  {
   "cell_type": "code",
   "execution_count": 194,
   "metadata": {},
   "outputs": [
    {
     "data": {
      "text/plain": [
       "array([[5.1, 3.5, 1.4, 0.2],\n",
       "       [4.9, 3. , 1.4, 0.2],\n",
       "       [4.7, 3.2, 1.3, 0.2],\n",
       "       [4.6, 3.1, 1.5, 0.2],\n",
       "       [5. , 3.6, 1.4, 0.2],\n",
       "       [0. , 3.9, 1.7, 0.4],\n",
       "       [4.6, 3.4, 1.4, 0.3],\n",
       "       [5. , 3.4, 1.5, 0.2],\n",
       "       [4.4, 2.9, 1.4, 0.2],\n",
       "       [4.9, 3.1, 1.5, 0.1]])"
      ]
     },
     "execution_count": 194,
     "metadata": {},
     "output_type": "execute_result"
    }
   ],
   "source": [
    "url = 'https://archive.ics.uci.edu/ml/machine-learning-databases/iris/iris.data'\n",
    "iris_2d = np.genfromtxt(url, delimiter=',', dtype='float', usecols=[0,1,2,3])\n",
    "iris_2d[np.random.randint(iris_2d.shape[0], size=20), np.random.randint(iris_2d.shape[1], size=20)] = np.nan\n",
    "iris_2d[:20] # exploring\n",
    "\n",
    "iris_2d[np.isnan(iris_2d)] = 0\n",
    "iris_2d[:10]\n"
   ]
  },
  {
   "cell_type": "markdown",
   "metadata": {},
   "source": [
    "** 39.- How to find the count of unique values in a numpy array? **\n",
    "   - Find the unique values and the count of unique values in iris's species"
   ]
  },
  {
   "cell_type": "code",
   "execution_count": 208,
   "metadata": {},
   "outputs": [
    {
     "name": "stdout",
     "output_type": "stream",
     "text": [
      "(150,)\n"
     ]
    },
    {
     "data": {
      "text/plain": [
       "(array([b'Iris-setosa', b'Iris-versicolor', b'Iris-virginica'],\n",
       "       dtype='|S15'), array([50, 50, 50]))"
      ]
     },
     "execution_count": 208,
     "metadata": {},
     "output_type": "execute_result"
    }
   ],
   "source": [
    "url = 'https://archive.ics.uci.edu/ml/machine-learning-databases/iris/iris.data'\n",
    "iris = np.genfromtxt(url, delimiter=',', dtype='object')\n",
    "names = ('sepallength', 'sepalwidth', 'petallength', 'petalwidth', 'species')\n",
    "\n",
    "species = np.array([row.tolist()[4] for row in iris])\n",
    "print(species.shape)\n",
    "\n",
    "# Get the unique values and the counts\n",
    "np.unique(species, return_counts=True)"
   ]
  },
  {
   "cell_type": "markdown",
   "metadata": {},
   "source": [
    "** 40.-  How to convert a numeric to a categorical (text) array? **\n",
    "   - Bin the petal length (3rd) column of iris_2d to form a text array, such that if petal length is:\n",
    "    \n",
    "    * Less than 3 --> 'small'\n",
    "    * 3-5 --> 'medium'\n",
    "    * '>=5 --> 'large'"
   ]
  },
  {
   "cell_type": "code",
   "execution_count": 214,
   "metadata": {},
   "outputs": [
    {
     "data": {
      "text/plain": [
       "['small', 'small', 'small', 'small']"
      ]
     },
     "execution_count": 214,
     "metadata": {},
     "output_type": "execute_result"
    }
   ],
   "source": [
    "url = 'https://archive.ics.uci.edu/ml/machine-learning-databases/iris/iris.data'\n",
    "iris = np.genfromtxt(url, delimiter=',', dtype='object')\n",
    "names = ('sepallength', 'sepalwidth', 'petallength', 'petalwidth', 'species')\n",
    "\n",
    "# Bin petallength \n",
    "petalLengthBin = np.digitize(iris[:, 2].astype('float'), [0, 3, 5, 10])\n",
    "# help(np.digitize)\n",
    "\n",
    "# Map it to respective category\n",
    "labelMap = {1: 'small', 2: 'medium', 3: 'large', 4: np.nan}\n",
    "petalLengthCat = [labelMap[x] for x in petalLengthBin]\n",
    "\n",
    "# View\n",
    "petalLengthCat[:4]"
   ]
  },
  {
   "cell_type": "code",
   "execution_count": null,
   "metadata": {},
   "outputs": [],
   "source": []
  },
  {
   "cell_type": "code",
   "execution_count": null,
   "metadata": {},
   "outputs": [],
   "source": []
  }
 ],
 "metadata": {
  "kernelspec": {
   "display_name": "Python 3",
   "language": "python",
   "name": "python3"
  },
  "language_info": {
   "codemirror_mode": {
    "name": "ipython",
    "version": 3
   },
   "file_extension": ".py",
   "mimetype": "text/x-python",
   "name": "python",
   "nbconvert_exporter": "python",
   "pygments_lexer": "ipython3",
   "version": "3.6.4"
  }
 },
 "nbformat": 4,
 "nbformat_minor": 2
}
